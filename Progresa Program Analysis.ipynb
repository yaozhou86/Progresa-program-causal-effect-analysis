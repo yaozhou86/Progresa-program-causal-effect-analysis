{
 "cells": [
  {
   "cell_type": "code",
   "execution_count": 2,
   "metadata": {},
   "outputs": [
    {
     "name": "stdout",
     "output_type": "stream",
     "text": [
      "IPython version:       5.3.0 (need at least 1.0)\n",
      "Numpy version:        1.13.1 (need at least 1.7.1)\n",
      "SciPy version:        0.19.0 (need at least 0.12.0)\n",
      "Pandas version:       0.20.1 (need at least 0.11.0)\n",
      "Mapltolib version:     2.0.2 (need at least 1.2.1)\n",
      "Scikit-Learn version: 0.18.1 (need at least 0.13.1)\n"
     ]
    }
   ],
   "source": [
    "#IPython is what you are using now to run the notebook\n",
    "import IPython\n",
    "print (\"IPython version:      %6.6s (need at least 1.0)\" % IPython.__version__)\n",
    "\n",
    "# Numpy is a library for working with Arrays\n",
    "import numpy as np\n",
    "print (\"Numpy version:        %6.6s (need at least 1.7.1)\" % np.__version__)\n",
    "\n",
    "# SciPy implements many different numerical algorithms\n",
    "import scipy as sp\n",
    "print (\"SciPy version:        %6.6s (need at least 0.12.0)\" % sp.__version__)\n",
    "\n",
    "# Pandas makes working with data tables easier\n",
    "import pandas as pd\n",
    "print (\"Pandas version:       %6.6s (need at least 0.11.0)\" % pd.__version__)\n",
    "\n",
    "# Module for plotting\n",
    "import matplotlib \n",
    "print (\"Mapltolib version:    %6.6s (need at least 1.2.1)\" % matplotlib.__version__)\n",
    "\n",
    "\n",
    "# SciKit Learn implements several Machine Learning algorithms\n",
    "import sklearn\n",
    "print (\"Scikit-Learn version: %6.6s (need at least 0.13.1)\" % sklearn.__version__)"
   ]
  },
  {
   "cell_type": "markdown",
   "metadata": {
    "ein.tags": [
     "worksheet-0"
    ],
    "slideshow": {
     "slide_type": "-"
    }
   },
   "source": [
    "## Introduction \n",
    "This notebook used data from the [Progresa program](http://en.wikipedia.org/wiki/Oportunidades), a government social assistance program in Mexico. This program, as well as the details of its impact, are described in the paper \"[School subsidies for the poor: evaluating the Mexican Progresa poverty program](http://www.sciencedirect.com/science/article/pii/S0304387803001858)\", by Paul Shultz (available on Canvas). \n",
    "The goal of this problem set is to implement some of the basic econometric techniques to measure the impact of Progresa on secondary school enrollment rates. The timeline of the program was:\n",
    "\n",
    " * Baseline survey conducted in 1997\n",
    " * Intervention begins in 1998, \"Wave 1\" of data collected in 1998\n",
    " * \"Wave 2 of data\" collected in 1999\n",
    " * Evaluation ends in 2000, at which point the control villages were treated. \n",
    " \n",
    "The data are actual data collected to evaluate the impact of the Progresa program.  In this file, each row corresponds to an observation taken for a given child for a given year. There are two years of data (1997 and 1998), and just under 40,000 children who are surveyed in each year. For each child-year observation, the following variables are collected:\n",
    "\n",
    "| Variable name | Description|\n",
    "|---------|---------|\n",
    "|year\t  |year in which data is collected\n",
    "|sex\t  |male = 1|\n",
    "|indig\t  |indigenous = 1|\n",
    "|dist_sec |nearest distance to a secondary school|\n",
    "|sc\t      |enrolled in school in year of survey|\n",
    "|grc      |grade enrolled|\n",
    "|fam_n    |family size|\n",
    "|min_dist |\tmin distance to an urban center|\n",
    "|dist_cap |\tmin distance to the capital|\n",
    "|poor     |\tpoor = 1|\n",
    "|progresa |treatment =1|\n",
    "|hohedu\t  |years of schooling of head of household|\n",
    "|hohwag\t  |monthly wages of head of household|\n",
    "|welfare_index|\twelfare index used to classify poor|\n",
    "|hohsex\t  |gender of head of household (male=1)|\n",
    "|hohage   |age of head of household|\n",
    "|age      |years old|\n",
    "|folnum\t  |individual id|\n",
    "|village  |\tvillage id|\n",
    "|sc97\t  |schooling in 1997|"
   ]
  },
  {
   "cell_type": "markdown",
   "metadata": {
    "ein.tags": [
     "worksheet-0"
    ],
    "slideshow": {
     "slide_type": "-"
    }
   },
   "source": [
    "---\n",
    "\n",
    "## Part 1: Descriptive analysis\n",
    "\n",
    "### 1.1\tSummary Statistics\n",
    "\n",
    "Present summary statistics (mean and standard deviation) for all of the demographic variables in the dataset (i.e., everything except year, folnum, village)."
   ]
  },
  {
   "cell_type": "code",
   "execution_count": 3,
   "metadata": {
    "autoscroll": "json-false",
    "ein.tags": [
     "worksheet-0"
    ],
    "slideshow": {
     "slide_type": "-"
    }
   },
   "outputs": [
    {
     "name": "stdout",
     "output_type": "stream",
     "text": [
      "                     mean          sd\n",
      "sex              0.512211    0.499851\n",
      "indig            0.298324    0.457522\n",
      "dist_sec         2.418910    2.234094\n",
      "sc               0.819818    0.384339\n",
      "grc              3.963537    2.499046\n",
      "fam_n            7.215715    2.352885\n",
      "min_dist       103.447520   42.089168\n",
      "dist_cap       147.674452   76.062641\n",
      "hohedu           2.768104    2.656089\n",
      "hohwag         586.985312  788.128563\n",
      "welfare_index  690.346564  139.490225\n",
      "hohsex           0.925185    0.263093\n",
      "hohage          44.436717   11.620296\n",
      "age             11.366460    3.167723\n",
      "grc97            3.705372    2.572371\n",
      "sc97             0.813922    0.389169\n"
     ]
    }
   ],
   "source": [
    "progresa = pd.read_csv(\"progresa_sample.csv\") # load data\n",
    "\n",
    "demo_var = ['sex', 'indig', 'dist_sec', 'sc', 'grc', 'fam_n', 'min_dist',\n",
    "       'dist_cap','hohedu', 'hohwag', 'welfare_index',\n",
    "       'hohsex', 'hohage', 'age', 'grc97', 'sc97'] #demographic variables\n",
    "mean = []\n",
    "sd = []\n",
    "for var in demo_var:\n",
    "    mean.append(np.mean(progresa[var])) # mean of variable\n",
    "    sd.append(np.std(progresa[var])) # standard deviation of variable\n",
    "demo_df = pd.DataFrame({'mean':mean, 'sd':sd}, index=demo_var) # create a dataframe\n",
    "print(demo_df)"
   ]
  },
  {
   "cell_type": "markdown",
   "metadata": {
    "ein.tags": [
     "worksheet-0"
    ],
    "slideshow": {
     "slide_type": "-"
    }
   },
   "source": [
    "### 1.2 Differences at baseline?\n",
    "\n",
    "Are the baseline (1997) demographic characteristics **for the poor**  different in treatment and control villages? "
   ]
  },
  {
   "cell_type": "code",
   "execution_count": 4,
   "metadata": {
    "autoscroll": "json-false",
    "ein.tags": [
     "worksheet-0"
    ],
    "slideshow": {
     "slide_type": "-"
    }
   },
   "outputs": [
    {
     "name": "stdout",
     "output_type": "stream",
     "text": [
      "         Variable  Avg Value(Treatment)  Avg Value(Control)  Difference  \\\n",
      "0             sex              0.519317            0.505052    2.506686   \n",
      "1           indig              0.325986            0.332207   -1.161714   \n",
      "2        dist_sec              2.453122            2.507662   -2.100433   \n",
      "3              sc              0.822697            0.815186    1.668745   \n",
      "4             grc              3.531599            3.543050   -0.400196   \n",
      "5           fam_n              7.281327            7.302469   -0.794167   \n",
      "6        min_dist            107.152915          103.237854    8.206584   \n",
      "7        dist_cap            150.829074          153.769730   -3.339081   \n",
      "8          hohedu              2.663139            2.590348    2.541229   \n",
      "9          hohwag            544.339544          573.163558   -3.594588   \n",
      "10  welfare_index            655.428377          659.579100   -3.188594   \n",
      "11         hohsex              0.924656            0.922947    0.566312   \n",
      "12         hohage             43.648828           44.276918   -4.775962   \n",
      "13            age             10.716991           10.742023   -0.708630   \n",
      "14          grc97              3.531599            3.543050   -0.400196   \n",
      "15           sc97              0.822697            0.815186    1.668745   \n",
      "\n",
      "         p-value  \n",
      "0   1.219172e-02  \n",
      "1   2.453603e-01  \n",
      "2   3.569843e-02  \n",
      "3   9.517806e-02  \n",
      "4   6.890151e-01  \n",
      "5   4.271039e-01  \n",
      "6   2.358312e-16  \n",
      "7   8.415005e-04  \n",
      "8   1.105093e-02  \n",
      "9   3.253835e-04  \n",
      "10  1.431016e-03  \n",
      "11  5.711858e-01  \n",
      "12  1.796243e-06  \n",
      "13  4.785594e-01  \n",
      "14  6.890151e-01  \n",
      "15  9.517806e-02  \n"
     ]
    }
   ],
   "source": [
    "from scipy import stats\n",
    "base_poor = progresa[(progresa['year']==97)& (progresa['poor']=='pobre')] # poor households in 1997\n",
    "treat = base_poor[base_poor['progresa']=='basal'] # poor households in treatment group, 1997\n",
    "control = base_poor[base_poor['progresa']=='0'] # poor households in control group, 197\n",
    "treat_avg = []\n",
    "control_avg = []\n",
    "diff = []\n",
    "p_val = []\n",
    "for var in demo_var: #iterate over demographic variables\n",
    "    treat_avg.append(np.mean(treat[var])) # average of variable in treatment group\n",
    "    control_avg.append(np.mean(control[var])) # average of variable in control group\n",
    "    diff.append(stats.ttest_ind(treat[var], control[var], nan_policy='omit')[0]) # ttest statistics between two groups\n",
    "    p_val.append(stats.ttest_ind(treat[var], control[var], nan_policy='omit')[1]) # p-value\n",
    "\n",
    "# create a dataframe \n",
    "demo_ttest_df = pd.DataFrame({'Variable':demo_var,'Avg Value(Treatment)': treat_avg, 'Avg Value(Control)': control_avg, 'Difference': diff, 'p-value': p_val}, columns=['Variable', 'Avg Value(Treatment)', 'Avg Value(Control)', 'Difference', 'p-value'])\n",
    "print(demo_ttest_df)"
   ]
  },
  {
   "cell_type": "markdown",
   "metadata": {
    "autoscroll": "json-false",
    "ein.tags": [
     "worksheet-0"
    ],
    "slideshow": {
     "slide_type": "-"
    }
   },
   "source": [
    "There exist significant difference between control and treatment groups on some demographic characteristics such as sex, dist_sec, hohedu, etu, but the school enrollment level is not significantly different.\n",
    "The true treatment effect will be confounded by the significant difference between control and treatment groups that exist prior to any treatment.\n",
    "It implies that when we measure the impact of treatment, we need to minus the difference which already existed at baseline to get the net difference caused by the treatment. "
   ]
  },
  {
   "cell_type": "markdown",
   "metadata": {
    "ein.tags": [
     "worksheet-0"
    ],
    "slideshow": {
     "slide_type": "-"
    }
   },
   "source": [
    "### 1.4 Graphical exploration, part 1\n",
    "\n",
    "For each level of household head education, compute the average enrollment rate in 1997. Create a scatterplot that shows this relationship. What do you notice?"
   ]
  },
  {
   "cell_type": "code",
   "execution_count": 18,
   "metadata": {
    "autoscroll": "json-false",
    "ein.tags": [
     "worksheet-0"
    ],
    "slideshow": {
     "slide_type": "-"
    }
   },
   "outputs": [
    {
     "data": {
      "text/plain": [
       "<matplotlib.figure.Figure at 0x2207d5854e0>"
      ]
     },
     "metadata": {},
     "output_type": "display_data"
    },
    {
     "data": {
      "image/png": "[encoded data removed]",
      "text/plain": [
       "<matplotlib.figure.Figure at 0x2207d3d35c0>"
      ]
     },
     "metadata": {},
     "output_type": "display_data"
    }
   ],
   "source": [
    "import matplotlib.pyplot as plt\n",
    "# average enrollment of each level of household head education level\n",
    "hoh_enroll = progresa.groupby('hohedu')['sc97'].agg('mean').reset_index()\n",
    "plt.figure()\n",
    "ax =hoh_enroll.plot.scatter(x='hohedu', y='sc97', \n",
    "                            title=\"Enrollment Vs Household Education\") # plot education level vs enrollment rate\n",
    "ax.set_ylabel(\"Household Education\")\n",
    "plt.show()"
   ]
  },
  {
   "cell_type": "markdown",
   "metadata": {},
   "source": [
    "In general, the household head education level is in a positive relationship with the average enrollment rate, which means the higher level of education the household head has, the higher average enrollment rate their child would have achieved. However, there is one outlier which deviates from the trend. This outlier has high level of household head education (=20) but very low average enrollment rate. "
   ]
  },
  {
   "cell_type": "markdown",
   "metadata": {
    "ein.tags": [
     "worksheet-0"
    ],
    "slideshow": {
     "slide_type": "-"
    }
   },
   "source": [
    "### 1.5 Graphical exploration, part 2\n",
    "\n",
    "Create a histogram of village enrollment rates **among poor households in treated villages**, before and after treatment. Specifically, for each village, calculate the average rate of enrollment of poor households in treated villages in 1997, then compute the average rate of enrollment of poor households in treated villages in 1998. Create two separate histograms showing the distribution of these average enrollments rates, one histogram for 1997 and one histogram for 1998. On each histogram, draw a vertical line that intersects the x-axis at the average value (across all households).\n",
    "* Does there appear to be a difference? Is this difference statistically significant?\n",
    "* Which D estimator in Schultz (2004) does this approach correspond to?"
   ]
  },
  {
   "cell_type": "code",
   "execution_count": 43,
   "metadata": {
    "autoscroll": "json-false",
    "ein.tags": [
     "worksheet-0"
    ],
    "slideshow": {
     "slide_type": "-"
    }
   },
   "outputs": [
    {
     "data": {
      "image/png": "[encoded data removed]",
      "text/plain": [
       "<matplotlib.figure.Figure at 0x2200208ff60>"
      ]
     },
     "metadata": {},
     "output_type": "display_data"
    },
    {
     "data": {
      "text/plain": [
       "Ttest_indResult(statistic=-6.0692739292909827, pvalue=1.2976490728428597e-09)"
      ]
     },
     "execution_count": 43,
     "metadata": {},
     "output_type": "execute_result"
    }
   ],
   "source": [
    "# poor households in treatment group before treatment\n",
    "treat_bef = progresa[(progresa['progresa']=='basal') & (progresa['poor']=='pobre')&(progresa['year']==97)]\n",
    "# poor households in treatment group after treatment\n",
    "treat_aft = progresa[(progresa['progresa']=='basal') & (progresa['poor']=='pobre')&(progresa['year']==98)]\n",
    "# plot frequency of average enrollment of villages before treatment\n",
    "plt.figure()\n",
    "treat_bef.groupby('village')['sc'].agg('mean').plot.hist(color='blue', alpha=0.5, \n",
    "                                                         title='Average Enrollment Rate Before Treatment',\n",
    "                                                        label='Before')\n",
    "plt.axvline(x=np.mean(treat_bef['sc']), color='blue', linewidth=2)\n",
    "# plot frequency of average enrollment of villages after treatment\n",
    "treat_aft.groupby('village')['sc'].agg('mean').plot.hist(color='orange', alpha=0.5,\n",
    "                                                         title='Average Enrollment Rate After Treatment',\n",
    "                                                        label='After')\n",
    "plt.axvline(x=np.mean(treat_aft['sc']), color='orange', linewidth=2)\n",
    "plt.legend()\n",
    "plt.show()\n",
    "# ttest\n",
    "stats.ttest_ind(treat_bef['sc'], treat_aft['sc'], nan_policy='omit')"
   ]
  },
  {
   "cell_type": "markdown",
   "metadata": {},
   "source": [
    "* The histgram shows the distribution of enrollment rate shifted as a whole to the right side, so is the average enrollment rate, which means after treatment the enrollment rate increased. The result of t-test shows that the difference between control and treatment groups is statistically significant.\n",
    "* It corresponds to pre program S1t and post program S1t.  "
   ]
  },
  {
   "cell_type": "markdown",
   "metadata": {
    "ein.tags": [
     "worksheet-0"
    ],
    "slideshow": {
     "slide_type": "-"
    }
   },
   "source": [
    "## Part 2: Measuring Impact\n",
    "\n",
    "### 2.1 Simple differences: T-test\n",
    "\n",
    "Start out by estimating the impact of Progresa using \"simple differences.\" Restricting yourself to data from 1998 (after treatment).\n",
    "* calculate the average enrollment rate among **poor** households in the Treatment villages and the average enrollment rate among **poor** households in the control villages.\n",
    "* Which difference estimator in Schultz (2004) does this approach correspond to?\n",
    "* Use a t-test to determine if this difference is statistically significant. What do you conclude?"
   ]
  },
  {
   "cell_type": "code",
   "execution_count": 44,
   "metadata": {
    "autoscroll": "json-false",
    "ein.tags": [
     "worksheet-0"
    ],
    "slideshow": {
     "slide_type": "-"
    }
   },
   "outputs": [
    {
     "name": "stdout",
     "output_type": "stream",
     "text": [
      "0.8109\n",
      "0.8493\n",
      "Ttest_indResult(statistic=-8.1016503053003746, pvalue=5.656455605358843e-16)\n",
      "Difference between control and treatment :0.0383\n"
     ]
    }
   ],
   "source": [
    "poor_98 = progresa[(progresa['year']==98)& (progresa['poor']=='pobre')] # poor households data collected in 1998\n",
    "poor_98 = poor_98.dropna()\n",
    "treat_avg = poor_98[poor_98['progresa']=='basal']['sc'] # enrollment in treatment group\n",
    "contrl_avg = poor_98[poor_98['progresa']=='0']['sc']# enrollment in control group\n",
    "print(\"%0.4f\" %contrl_avg.mean())\n",
    "print(\"%0.4f\" %treat_avg.mean())\n",
    "ttest = stats.ttest_ind(contrl_avg, treat_avg, nan_policy='omit')\n",
    "print(ttest)\n",
    "print(\"Difference between control and treatment :{:.4f}\".format(treat_avg.mean()-contrl_avg.mean()))"
   ]
  },
  {
   "cell_type": "markdown",
   "metadata": {},
   "source": [
    "* The average enrollment rate in control group is 0.808 and in the treatment group is 0.846.\n",
    "* This approach corresponds to the difference estimator Post-program D1 in Schultdz's paper.  \n",
    "* The t-test shows this difference is significant, so we can conclude that given a random assignment to the control and treatment group, Progresa has significantly improved the enrollment rate among poor households.    "
   ]
  },
  {
   "cell_type": "markdown",
   "metadata": {
    "ein.tags": [
     "worksheet-0"
    ],
    "slideshow": {
     "slide_type": "-"
    }
   },
   "source": [
    "### 2.2 Simple differences: Regression\n",
    "\n",
    "Estimate the effects of Progresa on enrollment using a regression model, by regressing the 1998 enrollment rates **of the poor** on treatment assignment. Discuss the following:\n",
    "\n",
    "* Based on this model, how much did Progresa increase the likelihood of a child enrolling?\n",
    "* How does your regression estimate compare to your t-test estimate from part 2.1?\n",
    "* Based on this regression model, can we reject the null hypothesis that the treatment effects are zero? \n",
    "* What is the counterfactual assumption underlying this regression?"
   ]
  },
  {
   "cell_type": "code",
   "execution_count": 45,
   "metadata": {
    "autoscroll": "json-false",
    "ein.tags": [
     "worksheet-0"
    ],
    "scrolled": true,
    "slideshow": {
     "slide_type": "-"
    }
   },
   "outputs": [
    {
     "name": "stdout",
     "output_type": "stream",
     "text": [
      "                            OLS Regression Results                            \n",
      "==============================================================================\n",
      "Dep. Variable:                     sc   R-squared:                       0.003\n",
      "Model:                            OLS   Adj. R-squared:                  0.002\n",
      "Method:                 Least Squares   F-statistic:                     65.64\n",
      "Date:                Thu, 02 Nov 2017   Prob (F-statistic):           5.66e-16\n",
      "Time:                        15:11:26   Log-Likelihood:                -11171.\n",
      "No. Observations:               26155   AIC:                         2.235e+04\n",
      "Df Residuals:                   26153   BIC:                         2.236e+04\n",
      "Df Model:                           1                                         \n",
      "Covariance Type:            nonrobust                                         \n",
      "==================================================================================\n",
      "                     coef    std err          t      P>|t|      [0.025      0.975]\n",
      "----------------------------------------------------------------------------------\n",
      "Intercept          0.8109      0.004    217.190      0.000       0.804       0.818\n",
      "progresa_dummy     0.0383      0.005      8.102      0.000       0.029       0.048\n",
      "==============================================================================\n",
      "Omnibus:                     7487.800   Durbin-Watson:                   1.734\n",
      "Prob(Omnibus):                  0.000   Jarque-Bera (JB):            15756.374\n",
      "Skew:                          -1.796   Prob(JB):                         0.00\n",
      "Kurtosis:                       4.245   Cond. No.                         3.02\n",
      "==============================================================================\n",
      "\n",
      "Warnings:\n",
      "[1] Standard Errors assume that the covariance matrix of the errors is correctly specified.\n",
      "Simple Difference:0.0383\n"
     ]
    }
   ],
   "source": [
    "#import formula api as alias smf\n",
    "import statsmodels.formula.api as smf\n",
    "poor_98 = poor_98.dropna() # drop null \n",
    "poor_98['progresa_dummy'] = pd.Categorical(poor_98['progresa']).codes # convert progresa to categorical data\n",
    "res = smf.ols(formula='sc ~ progresa_dummy', data=poor_98).fit() # fit linear regression\n",
    "print(res.summary())\n",
    "print('Simple Difference:{:.4f}'.format(res.params[1]))"
   ]
  },
  {
   "cell_type": "markdown",
   "metadata": {},
   "source": [
    "* The program has increased the average enrollment rate of poor by 0.0383.\n",
    "* Compared with the result in 2.1, the intercept of the regression mode is the average enrollment level of control group (reference group), and the coefficient estimate of progresa is the enrollment difference between control and treatment groups.\n",
    "* As the p-value of the coefficient estimate is less than 0.05, we can reject the null hypothesis that the program has no effect on school enrollment.\n",
    "* The couterfactual assumption is without the treatment the enrollment rate would still change as it did."
   ]
  },
  {
   "cell_type": "markdown",
   "metadata": {
    "ein.tags": [
     "worksheet-0"
    ],
    "slideshow": {
     "slide_type": "-"
    }
   },
   "source": [
    "### 2.3 Multiple Regression\n",
    "\n",
    "Re-run the above regression estimated but this time include a set of control variables. Include, for instance, age, distance to a secondary school, gender, education of household head, indigenous, etc.\n",
    "\n",
    "* How do the controls affect the point estimate of treatment effect?\n",
    "* How do the controls affect the standard error on the treatment effect? \n",
    "* How do you interpret the differences (or similarities) between your estimates of 2.2 and 2.3?"
   ]
  },
  {
   "cell_type": "code",
   "execution_count": 46,
   "metadata": {
    "autoscroll": "json-false",
    "ein.tags": [
     "worksheet-0"
    ],
    "slideshow": {
     "slide_type": "-"
    }
   },
   "outputs": [
    {
     "name": "stdout",
     "output_type": "stream",
     "text": [
      "                            OLS Regression Results                            \n",
      "==============================================================================\n",
      "Dep. Variable:                     sc   R-squared:                       0.022\n",
      "Model:                            OLS   Adj. R-squared:                  0.022\n",
      "Method:                 Least Squares   F-statistic:                     99.02\n",
      "Date:                Thu, 02 Nov 2017   Prob (F-statistic):          1.14e-123\n",
      "Time:                        15:11:40   Log-Likelihood:                -10910.\n",
      "No. Observations:               26155   AIC:                         2.183e+04\n",
      "Df Residuals:                   26148   BIC:                         2.189e+04\n",
      "Df Model:                           6                                         \n",
      "Covariance Type:            nonrobust                                         \n",
      "==================================================================================\n",
      "                     coef    std err          t      P>|t|      [0.025      0.975]\n",
      "----------------------------------------------------------------------------------\n",
      "Intercept          0.7846      0.010     81.900      0.000       0.766       0.803\n",
      "progresa_dummy     0.0374      0.005      7.988      0.000       0.028       0.047\n",
      "hohedu             0.0154      0.001     16.896      0.000       0.014       0.017\n",
      "dist_sec          -0.0088      0.001     -8.220      0.000      -0.011      -0.007\n",
      "fam_n             -0.0030      0.001     -3.006      0.003      -0.005      -0.001\n",
      "indig              0.0457      0.005      9.373      0.000       0.036       0.055\n",
      "sex                0.0249      0.005      5.480      0.000       0.016       0.034\n",
      "==============================================================================\n",
      "Omnibus:                     7171.035   Durbin-Watson:                   1.754\n",
      "Prob(Omnibus):                  0.000   Jarque-Bera (JB):            14663.868\n",
      "Skew:                          -1.738   Prob(JB):                         0.00\n",
      "Kurtosis:                       4.172   Cond. No.                         37.2\n",
      "==============================================================================\n",
      "\n",
      "Warnings:\n",
      "[1] Standard Errors assume that the covariance matrix of the errors is correctly specified.\n"
     ]
    }
   ],
   "source": [
    "multi_res = smf.ols(formula='sc ~ progresa_dummy + hohedu +  dist_sec + fam_n + indig + sex', data=poor_98).fit() # fit multiple regression\\\n",
    "print(multi_res.summary())"
   ]
  },
  {
   "cell_type": "markdown",
   "metadata": {},
   "source": [
    "* The coefficient estimate of progresa was slightly smaller in multiple regression than in the simple regression model.\n",
    "* The standard error in the multiple regression model remained the same as in the simple regression model.\n",
    "* The difference exists because in the simple regression model, the coefficient represents the average effect of Progresa program, igoring other predictors while in the multiple regression model, the coefficient represents the average effect of Progresa program while holding other predictors fixed."
   ]
  },
  {
   "cell_type": "markdown",
   "metadata": {
    "ein.tags": [
     "worksheet-0"
    ],
    "slideshow": {
     "slide_type": "-"
    }
   },
   "source": [
    "### 2.4 Difference-in-Difference, version 1 (tabular)\n",
    "\n",
    "Thus far, we have computed the effects of Progresa by estimating the difference in 1998 enrollment rates across villages. An alternative approach would be to compute the treatment effect using a difference-in-differences framework.\n",
    "\n",
    "Begin by estimating the average treatment effects of the program for poor households using data from 1997 and 1998. Specifically, calculate the difference (between 1997 and 1998) in enrollment rates among poor households in treated villages; then compute the difference (between 1997 and 1998) in enrollment rates among poor households in treated villages. The difference between these two differences is your estimate.\n",
    "\n",
    "* What is your estimate of the impact, and how does it compare to your earlier (simple difference) results?\n",
    "* What is the counterfactual assumption underlying this estimate? \n"
   ]
  },
  {
   "cell_type": "code",
   "execution_count": 47,
   "metadata": {
    "autoscroll": "json-false",
    "ein.tags": [
     "worksheet-0"
    ],
    "slideshow": {
     "slide_type": "-"
    }
   },
   "outputs": [
    {
     "name": "stdout",
     "output_type": "stream",
     "text": [
      "Difference-in-Difference:0.0313\n"
     ]
    }
   ],
   "source": [
    "# poor in 97\n",
    "poor_97 = progresa[(progresa['year']==97) & (progresa['poor']=='pobre')] \n",
    "# poor in 98\n",
    "poor_98 = progresa[(progresa['year']==98) & (progresa['poor']=='pobre')] \n",
    "# difference between 97 and 98 in control group\n",
    "diff_contrl = poor_98[poor_98['progresa']=='0']['sc'].mean()- poor_97[poor_97['progresa']=='0']['sc'].mean()\n",
    "# difference between 97 and 98 in treatment group\n",
    "diff_treat = poor_98[poor_98['progresa']=='basal']['sc'].mean()- poor_97[poor_97['progresa']=='basal']['sc'].mean()\n",
    "# diff in diff\n",
    "did = diff_treat-diff_contrl\n",
    "print('Difference-in-Difference:{:0.4f}'.format(did))"
   ]
  },
  {
   "cell_type": "markdown",
   "metadata": {},
   "source": [
    "* The difference-in-difference value is slightly smaller than the simple difference value because the control group and treatment group didn't start out at same point in 1997 (baseline), but this initial difference is ignored in the simple difference. Diff-in-diff minus this initial difference from the total difference between control and treatment group in 1998, so the value is smaller than the simple difference.  \n",
    "* The counterfactual assumption is if neither group has received treatment, the much of difference between treatment and control would still be the same as it is."
   ]
  },
  {
   "cell_type": "markdown",
   "metadata": {
    "ein.tags": [
     "worksheet-0"
    ],
    "slideshow": {
     "slide_type": "-"
    }
   },
   "source": [
    "### 2.5 Difference-in-Difference, version 1 (regression)\n",
    "\n",
    "Now use a regression specification to estimate the average treatment effect of the program (on the poor) in a difference-in-differences framework. Include at least 5 control variables.\n",
    "\n",
    "* What is your estimate of the impact of Progresa? Be very specific in interpreting your coefficients and standard errors, and make sure to specify exactly what units you are measuring and estimating.\n",
    "* How do these estimates of the treatment effect compare to the estimates based on the simple difference?\n",
    "* How do these estimates compare to the difference-in-difference estimates from 2.4 above? What accounts for these differences?\n",
    "* What is the counterfactual assumption underlying this regression? "
   ]
  },
  {
   "cell_type": "code",
   "execution_count": 48,
   "metadata": {
    "autoscroll": "json-false",
    "ein.tags": [
     "worksheet-0"
    ],
    "slideshow": {
     "slide_type": "-"
    }
   },
   "outputs": [
    {
     "name": "stdout",
     "output_type": "stream",
     "text": [
      "                            OLS Regression Results                            \n",
      "==============================================================================\n",
      "Dep. Variable:                     sc   R-squared:                       0.020\n",
      "Model:                            OLS   Adj. R-squared:                  0.020\n",
      "Method:                 Least Squares   F-statistic:                     146.9\n",
      "Date:                Thu, 02 Nov 2017   Prob (F-statistic):          6.91e-246\n",
      "Time:                        15:11:55   Log-Likelihood:                -24874.\n",
      "No. Observations:               56893   AIC:                         4.977e+04\n",
      "Df Residuals:                   56884   BIC:                         4.985e+04\n",
      "Df Model:                           8                                         \n",
      "Covariance Type:            nonrobust                                         \n",
      "=============================================================================================\n",
      "                                coef    std err          t      P>|t|      [0.025      0.975]\n",
      "---------------------------------------------------------------------------------------------\n",
      "Intercept                     0.7859      0.007    112.647      0.000       0.772       0.800\n",
      "year_dummy                   -0.0051      0.005     -0.995      0.320      -0.015       0.005\n",
      "progresa_dummy                0.0066      0.004      1.489      0.137      -0.002       0.015\n",
      "year_dummy:progresa_dummy     0.0308      0.006      4.742      0.000       0.018       0.044\n",
      "hohedu                        0.0153      0.001     24.231      0.000       0.014       0.017\n",
      "dist_sec                     -0.0079      0.001    -10.742      0.000      -0.009      -0.006\n",
      "fam_n                        -0.0030      0.001     -4.442      0.000      -0.004      -0.002\n",
      "indig                         0.0467      0.003     13.837      0.000       0.040       0.053\n",
      "sex                           0.0287      0.003      9.141      0.000       0.023       0.035\n",
      "==============================================================================\n",
      "Omnibus:                    14513.751   Durbin-Watson:                   1.410\n",
      "Prob(Omnibus):                  0.000   Jarque-Bera (JB):            28408.591\n",
      "Skew:                          -1.669   Prob(JB):                         0.00\n",
      "Kurtosis:                       3.918   Cond. No.                         49.8\n",
      "==============================================================================\n",
      "\n",
      "Warnings:\n",
      "[1] Standard Errors assume that the covariance matrix of the errors is correctly specified.\n",
      "Estimate impact of Progresa:0.0308\n"
     ]
    }
   ],
   "source": [
    "poor_dat = progresa[progresa['poor']=='pobre'] # poor families\n",
    "poor_dat = poor_dat.dropna() # drop na\n",
    "poor_dat['year_dummy']=pd.Categorical(poor_dat['year']).codes #categorize year\n",
    "poor_dat['progresa_dummy'] = pd.Categorical(poor_dat['progresa']).codes # categorize progresa\n",
    "#print(poor_dat.head(10))\n",
    "#linear regression fit\n",
    "diff_res = smf.ols(formula='sc ~ year_dummy * progresa_dummy +  hohedu +  dist_sec + fam_n + indig + sex', data=poor_dat).fit()\n",
    "print(diff_res.summary()) \n",
    "print('Estimate impact of Progresa:{:.4f}'.format(diff_res.params[3]))\n"
   ]
  },
  {
   "cell_type": "markdown",
   "metadata": {},
   "source": [
    "* The estimate impact of Progresa is 0.0308. It means the difference of the average enrollment between the control and treatment group in 1998 minus the difference between the control and treatment group in 1997 is 0.0308. In other words, assuming there is no difference between control and treatment group in 1997, the program will increase the enrollment rate by 0.0308.  \n",
    "* Compared with the simple difference estimate, the coefficient is smaller.\n",
    "* The difference estimate is slightly smaller than in 2.4. The difference is caused by the introduction of other predictors.\n",
    "* The counterfactual assumption is if neither group has received treatment, the much of difference between treatment and control would still be the same as it is."
   ]
  },
  {
   "cell_type": "markdown",
   "metadata": {
    "ein.tags": [
     "worksheet-0"
    ],
    "slideshow": {
     "slide_type": "-"
    }
   },
   "source": [
    "### 2.6 Difference-in-Difference, version 2\n",
    "\n",
    "In the previous problem, you estimated a difference-in-differences model that compared changes in enrollment rates over time across treatment and control villages. An alternative approach would be to compare enrollment rates in 1998 between poor and non-poor across treatment and control villages. \n",
    "\n",
    "* How would we estimate this version of the treatment effects in a regression model? \n",
    "* What is the counterfactual assumption underlying this regression?\n",
    "* How do these treatment effects compare to the estimates above?\n",
    "* Discuss some possible explanations for differences or similarities "
   ]
  },
  {
   "cell_type": "code",
   "execution_count": 49,
   "metadata": {
    "autoscroll": "json-false",
    "ein.tags": [
     "worksheet-0"
    ],
    "slideshow": {
     "slide_type": "-"
    }
   },
   "outputs": [
    {
     "name": "stdout",
     "output_type": "stream",
     "text": [
      "                            OLS Regression Results                            \n",
      "==============================================================================\n",
      "Dep. Variable:                     sc   R-squared:                       0.003\n",
      "Model:                            OLS   Adj. R-squared:                  0.003\n",
      "Method:                 Least Squares   F-statistic:                     35.16\n",
      "Date:                Thu, 02 Nov 2017   Prob (F-statistic):           1.13e-22\n",
      "Time:                        15:12:00   Log-Likelihood:                -13466.\n",
      "No. Observations:               30665   AIC:                         2.694e+04\n",
      "Df Residuals:                   30661   BIC:                         2.697e+04\n",
      "Df Model:                           3                                         \n",
      "Covariance Type:            nonrobust                                         \n",
      "=============================================================================================\n",
      "                                coef    std err          t      P>|t|      [0.025      0.975]\n",
      "---------------------------------------------------------------------------------------------\n",
      "Intercept                     0.7814      0.009     88.133      0.000       0.764       0.799\n",
      "poor_dummy                    0.0296      0.010      3.066      0.002       0.011       0.048\n",
      "progresa_dummy                0.0294      0.011      2.578      0.010       0.007       0.052\n",
      "poor_dummy:progresa_dummy     0.0089      0.012      0.717      0.473      -0.015       0.033\n",
      "==============================================================================\n",
      "Omnibus:                     8348.801   Durbin-Watson:                   1.738\n",
      "Prob(Omnibus):                  0.000   Jarque-Bera (JB):            16993.544\n",
      "Skew:                          -1.744   Prob(JB):                         0.00\n",
      "Kurtosis:                       4.066   Cond. No.                         14.9\n",
      "==============================================================================\n",
      "\n",
      "Warnings:\n",
      "[1] Standard Errors assume that the covariance matrix of the errors is correctly specified.\n"
     ]
    }
   ],
   "source": [
    "dat_98 = progresa[progresa['year']==98] # data in 98\n",
    "dat_98 = dat_98.dropna() # drop na\n",
    "dat_98['poor_dummy'] = pd.Categorical(dat_98['poor']).codes # categorize poor\n",
    "dat_98['progresa_dummy'] = pd.Categorical(dat_98['progresa']).codes # categorize progresa\n",
    "diff_res2 = smf.ols(formula='sc ~ poor_dummy * progresa_dummy', data=dat_98).fit() # linear regression fit\n",
    "print(diff_res2.summary())\n"
   ]
  },
  {
   "cell_type": "markdown",
   "metadata": {},
   "source": [
    "* We can introduce the interaction term between poor and progresa to measure the program effect on reducing the enrollment difference between poor and non-poor household. The coefficient of the progresa and poor interaction term is the program impact, in this case it is 0.0089.\n",
    "* The counterfactual assumption is the without the program the enrollment difference between poor and non-poor households would still be decreased.\n",
    "* Compared with the previous estimate, the program's impact in this model is smaller and it is not statistically significant.\n",
    "* The estimate is different because these two models (version 1 and version 2) explored different aspects of the program impact.Version 1 measures the net effect of the program on the treatment group, while version 2 measures how the program decreased difference of enrollment between poor and non poor households."
   ]
  },
  {
   "cell_type": "markdown",
   "metadata": {
    "ein.tags": [
     "worksheet-0"
    ],
    "slideshow": {
     "slide_type": "-"
    }
   },
   "source": [
    "### 2.7 Spillover effects (extra credit)\n",
    "\n",
    "Thus far, we have focused on the impact of PROGRESA on poor households. Repeat your analysis in 2.5, using a double-difference regression to estimate the impact of PROGRESA on non-poor households. In other words, compare the difference in enrollments between 1997 and 1998 for non-poor households in treatment villages with the difference in enrollments between 1997 and 1998 for non-poor households in control villages.\n",
    "\n",
    "* A: Describe one or two reasons why PROGRESA might have impacted non-poor households.\n",
    "* B: Do you observe any impacts of PROGRESA on the non-poor?\n",
    "* C: What is the identifying assumption that you are using to estimate the impact of PROGRESA on non-poor households."
   ]
  },
  {
   "cell_type": "code",
   "execution_count": 14,
   "metadata": {
    "autoscroll": "json-false",
    "ein.tags": [
     "worksheet-0"
    ],
    "slideshow": {
     "slide_type": "-"
    }
   },
   "outputs": [
    {
     "name": "stdout",
     "output_type": "stream",
     "text": [
      "                            OLS Regression Results                            \n",
      "==============================================================================\n",
      "Dep. Variable:                     sc   R-squared:                       0.002\n",
      "Model:                            OLS   Adj. R-squared:                  0.001\n",
      "Method:                 Least Squares   F-statistic:                     5.993\n",
      "Date:                Wed, 25 Jan 2017   Prob (F-statistic):           0.000447\n",
      "Time:                        11:52:22   Log-Likelihood:                -5317.6\n",
      "No. Observations:               10229   AIC:                         1.064e+04\n",
      "Df Residuals:                   10225   BIC:                         1.067e+04\n",
      "Df Model:                           3                                         \n",
      "Covariance Type:            nonrobust                                         \n",
      "=============================================================================================\n",
      "                                coef    std err          t      P>|t|      [95.0% Conf. Int.]\n",
      "---------------------------------------------------------------------------------------------\n",
      "Intercept                     0.7637      0.009     89.460      0.000         0.747     0.780\n",
      "year_dummy                    0.0176      0.013      1.371      0.170        -0.008     0.043\n",
      "progresa_dummy                0.0317      0.011      2.879      0.004         0.010     0.053\n",
      "year_dummy:progresa_dummy    -0.0022      0.017     -0.134      0.893        -0.035     0.030\n",
      "==============================================================================\n",
      "Omnibus:                     1987.211   Durbin-Watson:                   1.453\n",
      "Prob(Omnibus):                  0.000   Jarque-Bera (JB):             3439.592\n",
      "Skew:                          -1.420   Prob(JB):                         0.00\n",
      "Kurtosis:                       3.028   Cond. No.                         7.34\n",
      "==============================================================================\n",
      "\n",
      "Warnings:\n",
      "[1] Standard Errors assume that the covariance matrix of the errors is correctly specified.\n",
      "Estimate impact of Progresa:-0.002\n"
     ]
    }
   ],
   "source": [
    "nonpoor_dat = progresa[progresa['poor']=='no pobre'] # no poor families\n",
    "nonpoor_dat = nonpoor_dat.dropna() # drop na\n",
    "nonpoor_dat['year_dummy']=pd.Categorical(nonpoor_dat['year']).codes # categorize year\n",
    "nonpoor_dat['progresa_dummy'] = pd.Categorical(nonpoor_dat['progresa']).codes # categorize progresa\n",
    "diff_res = smf.ols(formula='sc ~ year_dummy * progresa_dummy', data=nonpoor_dat).fit() # linear regression fit\n",
    "print(diff_res.summary()) \n",
    "print('Estimate impact of Progresa:{:.3f}'.format(diff_res.params[3]))"
   ]
  },
  {
   "cell_type": "markdown",
   "metadata": {},
   "source": [
    "* The PROGRESA may have impacted non-poor households when the limited schooling resources are shared between poor and non-poor families. More poor households getting enrolled to school would lead to less non poor households being enrolled.  \n",
    "* The impacts of PROGRESA on the non-poor is -0.002.\n",
    "* It is assumed that non-poor households are eligible to receive the treatment."
   ]
  },
  {
   "cell_type": "markdown",
   "metadata": {
    "ein.tags": [
     "worksheet-0"
    ],
    "slideshow": {
     "slide_type": "-"
    }
   },
   "source": [
    "### 2.8 Summary\n",
    "\n",
    "Based on all the analysis you have undertaken to date, do you thik that Progresa had a causal impact on the enrollment rates of poor households in Mexico?"
   ]
  }
 ],
 "metadata": {
  "anaconda-cloud": {},
  "kernelspec": {
   "display_name": "Python 3",
   "language": "python",
   "name": "python3"
  },
  "language_info": {
   "codemirror_mode": {
    "name": "ipython",
    "version": 3
   },
   "file_extension": ".py",
   "mimetype": "text/x-python",
   "name": "python",
   "nbconvert_exporter": "python",
   "pygments_lexer": "ipython3",
   "version": "3.6.1"
  },
  "name": "INFX574-PS2.ipynb"
 },
 "nbformat": 4,
 "nbformat_minor": 2
}
